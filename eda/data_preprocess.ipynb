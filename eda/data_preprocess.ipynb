{
 "cells": [
  {
   "cell_type": "code",
   "execution_count": 1,
   "metadata": {},
   "outputs": [],
   "source": [
    "import pandas as pd"
   ]
  },
  {
   "cell_type": "code",
   "execution_count": 4,
   "metadata": {},
   "outputs": [],
   "source": [
    "code =  pd.read_csv('../dataset/icd_list_dataset_v9.csv', index_col=False)\n",
    "df = pd.read_csv('../dataset/master_dataset.csv', index_col=False)"
   ]
  },
  {
   "cell_type": "code",
   "execution_count": 5,
   "metadata": {},
   "outputs": [
    {
     "data": {
      "text/html": [
       "<div>\n",
       "<style scoped>\n",
       "    .dataframe tbody tr th:only-of-type {\n",
       "        vertical-align: middle;\n",
       "    }\n",
       "\n",
       "    .dataframe tbody tr th {\n",
       "        vertical-align: top;\n",
       "    }\n",
       "\n",
       "    .dataframe thead th {\n",
       "        text-align: right;\n",
       "    }\n",
       "</style>\n",
       "<table border=\"1\" class=\"dataframe\">\n",
       "  <thead>\n",
       "    <tr style=\"text-align: right;\">\n",
       "      <th></th>\n",
       "      <th>stay_id</th>\n",
       "      <th>icd_list</th>\n",
       "      <th>icd_encoded_list</th>\n",
       "    </tr>\n",
       "  </thead>\n",
       "  <tbody>\n",
       "    <tr>\n",
       "      <th>0</th>\n",
       "      <td>38081480</td>\n",
       "      <td>set()</td>\n",
       "      <td>[]</td>\n",
       "    </tr>\n",
       "    <tr>\n",
       "      <th>1</th>\n",
       "      <td>30295111</td>\n",
       "      <td>set()</td>\n",
       "      <td>[]</td>\n",
       "    </tr>\n",
       "    <tr>\n",
       "      <th>2</th>\n",
       "      <td>33267868</td>\n",
       "      <td>set()</td>\n",
       "      <td>[]</td>\n",
       "    </tr>\n",
       "    <tr>\n",
       "      <th>3</th>\n",
       "      <td>35420907</td>\n",
       "      <td>set()</td>\n",
       "      <td>[]</td>\n",
       "    </tr>\n",
       "    <tr>\n",
       "      <th>4</th>\n",
       "      <td>34301067</td>\n",
       "      <td>set()</td>\n",
       "      <td>[]</td>\n",
       "    </tr>\n",
       "    <tr>\n",
       "      <th>...</th>\n",
       "      <td>...</td>\n",
       "      <td>...</td>\n",
       "      <td>...</td>\n",
       "    </tr>\n",
       "    <tr>\n",
       "      <th>448967</th>\n",
       "      <td>36522433</td>\n",
       "      <td>set()</td>\n",
       "      <td>[]</td>\n",
       "    </tr>\n",
       "    <tr>\n",
       "      <th>448968</th>\n",
       "      <td>35130402</td>\n",
       "      <td>set()</td>\n",
       "      <td>[]</td>\n",
       "    </tr>\n",
       "    <tr>\n",
       "      <th>448969</th>\n",
       "      <td>30502357</td>\n",
       "      <td>set()</td>\n",
       "      <td>[]</td>\n",
       "    </tr>\n",
       "    <tr>\n",
       "      <th>448970</th>\n",
       "      <td>36263682</td>\n",
       "      <td>set()</td>\n",
       "      <td>[]</td>\n",
       "    </tr>\n",
       "    <tr>\n",
       "      <th>448971</th>\n",
       "      <td>33486806</td>\n",
       "      <td>set()</td>\n",
       "      <td>[]</td>\n",
       "    </tr>\n",
       "  </tbody>\n",
       "</table>\n",
       "<p>448972 rows × 3 columns</p>\n",
       "</div>"
      ],
      "text/plain": [
       "         stay_id icd_list icd_encoded_list\n",
       "0       38081480    set()               []\n",
       "1       30295111    set()               []\n",
       "2       33267868    set()               []\n",
       "3       35420907    set()               []\n",
       "4       34301067    set()               []\n",
       "...          ...      ...              ...\n",
       "448967  36522433    set()               []\n",
       "448968  35130402    set()               []\n",
       "448969  30502357    set()               []\n",
       "448970  36263682    set()               []\n",
       "448971  33486806    set()               []\n",
       "\n",
       "[448972 rows x 3 columns]"
      ]
     },
     "execution_count": 5,
     "metadata": {},
     "output_type": "execute_result"
    }
   ],
   "source": [
    "code"
   ]
  },
  {
   "cell_type": "code",
   "execution_count": 14,
   "metadata": {},
   "outputs": [
    {
     "data": {
      "text/plain": [
       "9         32908139\n",
       "10        31931401\n",
       "11        33821726\n",
       "12        33704632\n",
       "13        32967983\n",
       "            ...   \n",
       "56650     34814488\n",
       "56651     33300224\n",
       "56652     36478825\n",
       "56655     31540374\n",
       "167408    32917002\n",
       "Name: stay_id, Length: 13433, dtype: int64"
      ]
     },
     "execution_count": 14,
     "metadata": {},
     "output_type": "execute_result"
    }
   ],
   "source": [
    "code[code['icd_list'].str.contains('4019')]['stay_id']"
   ]
  },
  {
   "cell_type": "code",
   "execution_count": 26,
   "metadata": {},
   "outputs": [],
   "source": [
    "df_cut = df[df['stay_id'].isin(code[code['icd_list'].str.contains('4019')]['stay_id'])]"
   ]
  },
  {
   "cell_type": "code",
   "execution_count": null,
   "metadata": {},
   "outputs": [],
   "source": [
    "df_cut.to_csv('../dataset/df_patient.csv', index=False)"
   ]
  }
 ],
 "metadata": {
  "interpreter": {
   "hash": "1f54138a9b3dfbafadfe22494856edc909d1102687b4772b2a4ca44239205ed9"
  },
  "kernelspec": {
   "display_name": "Python 3.8.2 ('testdog')",
   "language": "python",
   "name": "python3"
  },
  "language_info": {
   "codemirror_mode": {
    "name": "ipython",
    "version": 3
   },
   "file_extension": ".py",
   "mimetype": "text/x-python",
   "name": "python",
   "nbconvert_exporter": "python",
   "pygments_lexer": "ipython3",
   "version": "3.8.2"
  },
  "orig_nbformat": 4
 },
 "nbformat": 4,
 "nbformat_minor": 2
}
