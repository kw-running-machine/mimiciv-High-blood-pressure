{
 "cells": [
  {
   "cell_type": "code",
   "execution_count": 2,
   "id": "805940b5",
   "metadata": {
    "collapsed": true
   },
   "source": [
    "# Extremely Randomized Trees\n",
    "# 초기 세팅\n",
    "import pandas as pd\n",
    "\n",
    "master = pd.read_csv(\"../dataset/master_3.csv\", encoding='utf-8')"
   ]
  },
  {
   "cell_type": "code",
   "execution_count": null,
   "id": "a4b9b8c4",
   "metadata": {},
   "outputs": [],
   "source": [
    "master = master.drop([\"intime\", \"outtime\", \"ed_los\", \"outcome_icu_transfer_12h\"], axis='columns')\n",
    "\n",
    "master_X = master.loc[:, master.columns!='outcome_critical']\n",
    "master_Y = master['outcome_critical']\n",
    "\n",
    "master_Y.replace([False, True],[0,1], inplace=True)"
   ]
  },
  {
   "cell_type": "code",
   "execution_count": null,
   "id": "b2c48d9f",
   "metadata": {},
   "outputs": [],
   "source": [
    "from sklearn.model_selection import train_test_split\n",
    "X_train, X_test, Y_train, Y_test = train_test_split(master_X, master_Y, test_size=0.33, random_state=321)"
   ]
  },
  {
   "cell_type": "code",
   "execution_count": null,
   "id": "e9644ca9",
   "metadata": {},
   "outputs": [],
   "source": [
    "# ERT 러닝\n",
    "from sklearn.ensemble import ExtraTreesClassifier\n",
    "\n",
    "ertTree = ExtraTreesClassifier(n_estimators=10, random_state=2)\n",
    "ertTree.fit(X_train, Y_train)"
   ]
  },
  {
   "cell_type": "code",
   "execution_count": null,
   "id": "d312c36a",
   "metadata": {},
   "outputs": [],
   "source": [
    "print(\"훈련 세트 정확도: {:.3f}\".format(ertTree.score(X_train, Y_train)))\n",
    "print(\"테스트 세트 정확도: {:.3f}\".format(ertTree.score(X_test, Y_test)))"
   ]
  },
  {
   "cell_type": "code",
   "execution_count": null,
   "id": "f4677850",
   "metadata": {},
   "outputs": [],
   "source": [
    "y_pred = ertTree.predict(X_test)"
   ]
  },
  {
   "cell_type": "code",
   "execution_count": null,
   "id": "afb602bc",
   "metadata": {},
   "outputs": [],
   "source": [
    "setting(y_pred)\n",
    "get_clf_eval(Y_test, y_pred)"
   ]
  },
  {
   "cell_type": "code",
   "execution_count": null,
   "id": "15a3beb2",
   "metadata": {},
   "outputs": [],
   "source": [
    "import numpy as np\n",
    "\n",
    "importance = ertTree.feature_importances_\n",
    "std = np.std([tree.feature_importances_ for tree in ertTree.estimators_], axis=0)\n",
    "indices = np.argsort(importance)[::-1]\n",
    "\n",
    "print(\"Feature ranking:\")\n",
    "for f in range(15):\n",
    "    print(\"{}. feature {} ({:.3f})\".format(f+1, master_X.columns[indices][f], importance[indices[f]]))"
   ]
  },
  {
   "cell_type": "code",
   "execution_count": null,
   "id": "04e3c982",
   "metadata": {},
   "outputs": [],
   "source": [
    "n_features = master_X.shape[1]\n",
    "plt.subplots(figsize=(10, 15))\n",
    "plt.barh(range(n_features), ertTree.feature_importances_, align='center')\n",
    "plt.yticks(np.arange(n_features), master_X.columns)\n",
    "plt.xlabel(\"특성 중요도\")\n",
    "plt.ylabel(\"특성\")\n",
    "plt.ylim(-1, n_features)\n",
    "plt.show()"
   ]
  },
  {
   "cell_type": "code",
   "execution_count": null,
   "id": "eaffbc1c",
   "metadata": {},
   "outputs": [],
   "source": [
    "from sklearn.metrics import confusion_matrix, accuracy_score\n",
    "from sklearn.metrics import precision_score, recall_score\n",
    "from sklearn.metrics import f1_score, roc_auc_score\n",
    "\n",
    "def setting(y_pred):\n",
    "    for i in range(len(y_pred)):\n",
    "        if y_pred[i]>=.5:       # setting threshold to .5\n",
    "           y_pred[i]=1\n",
    "        else:  \n",
    "           y_pred[i]=0\n",
    "\n",
    "def get_clf_eval(y_test, pred):\n",
    "    confusion = confusion_matrix(y_test, pred)\n",
    "    accuracy = accuracy_score(y_test, pred)\n",
    "    precision = precision_score(y_test, pred)\n",
    "    recall = recall_score(y_test, pred)\n",
    "    f1 = f1_score(y_test, pred)\n",
    "    roc_auc = roc_auc_score(y_test, pred)\n",
    "    print('오차 행렬')\n",
    "    print(confusion)\n",
    "    print('정확도: {0: .4f}, 정밀도: {1: .4f}, 재현율: {2: .4f},\\nF1: {3: .4f}, AUC: {4: .4f}'.format(accuracy, precision, recall, f1, roc_auc))"
   ]
  }
 ],
 "metadata": {
  "kernelspec": {
   "display_name": "Python 3 (ipykernel)",
   "language": "python",
   "name": "python3"
  },
  "language_info": {
   "codemirror_mode": {
    "name": "ipython",
    "version": 3
   },
   "file_extension": ".py",
   "mimetype": "text/x-python",
   "name": "python",
   "nbconvert_exporter": "python",
   "pygments_lexer": "ipython3",
   "version": "3.9.7"
  }
 },
 "nbformat": 4,
 "nbformat_minor": 5
}
