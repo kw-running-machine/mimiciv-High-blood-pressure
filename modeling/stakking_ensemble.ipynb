{
 "cells": [
  {
   "cell_type": "code",
   "execution_count": 2,
   "metadata": {},
   "outputs": [
    {
     "ename": "ModuleNotFoundError",
     "evalue": "No module named 'pycaret'",
     "output_type": "error",
     "traceback": [
      "\u001b[1;31m---------------------------------------------------------------------------\u001b[0m",
      "\u001b[1;31mModuleNotFoundError\u001b[0m                       Traceback (most recent call last)",
      "\u001b[1;32m~\\AppData\\Local\\Temp/ipykernel_25292/2837294223.py\u001b[0m in \u001b[0;36m<module>\u001b[1;34m\u001b[0m\n\u001b[0;32m      5\u001b[0m \u001b[1;32mfrom\u001b[0m \u001b[0msklearn\u001b[0m\u001b[1;33m.\u001b[0m\u001b[0mmodel_selection\u001b[0m \u001b[1;32mimport\u001b[0m \u001b[0mtrain_test_split\u001b[0m\u001b[1;33m\u001b[0m\u001b[1;33m\u001b[0m\u001b[0m\n\u001b[0;32m      6\u001b[0m \u001b[1;32mimport\u001b[0m \u001b[0mjinja2\u001b[0m\u001b[1;33m\u001b[0m\u001b[1;33m\u001b[0m\u001b[0m\n\u001b[1;32m----> 7\u001b[1;33m \u001b[1;32mfrom\u001b[0m \u001b[0mpycaret\u001b[0m\u001b[1;33m.\u001b[0m\u001b[0mclassification\u001b[0m \u001b[1;32mimport\u001b[0m \u001b[1;33m*\u001b[0m\u001b[1;33m\u001b[0m\u001b[1;33m\u001b[0m\u001b[0m\n\u001b[0m",
      "\u001b[1;31mModuleNotFoundError\u001b[0m: No module named 'pycaret'"
     ]
    }
   ],
   "source": [
    "import pandas as pd\n",
    "import numpy as np\n",
    "import tensorflow as tf\n",
    "import autokeras as ak\n",
    "from sklearn.model_selection import train_test_split\n",
    "import jinja2\n",
    "from pycaret.classification import *"
   ]
  },
  {
   "cell_type": "code",
   "execution_count": 2,
   "metadata": {},
   "outputs": [],
   "source": [
    "df = pd.read_csv('../dataset/master_3.csv')\n",
    "# df.head()"
   ]
  },
  {
   "cell_type": "code",
   "execution_count": 12,
   "metadata": {},
   "outputs": [],
   "source": [
    "# drop_df = df.drop(['outcome_critical'], axis=1)\n",
    "# x_train, x_test, y_train, y_test = train_test_split(drop_df, df['outcome_critical'], test_size=0.5, shuffle=True, random_state=2022)"
   ]
  },
  {
   "cell_type": "code",
   "execution_count": 8,
   "metadata": {},
   "outputs": [],
   "source": [
    "drop_df = df.drop(list(df.filter(regex='cci_').columns), axis=1)"
   ]
  },
  {
   "cell_type": "code",
   "execution_count": 13,
   "metadata": {},
   "outputs": [
    {
     "data": {
      "text/plain": [
       "outcome_critical                1.000000\n",
       "outcome_icu_transfer_12h        0.971288\n",
       "outcome_inhospital_mortality    0.385000\n",
       "outcome_hospitalization         0.277768\n",
       "n_med                           0.202126\n",
       "ed_resprate_last                0.200978\n",
       "ed_heartrate_last               0.157348\n",
       "age                             0.153257\n",
       "triage_resprate                 0.131355\n",
       "n_icu_365d                      0.124064\n",
       "n_icu_90d                       0.113711\n",
       "cci_CHF                         0.085129\n",
       "eci_CHF                         0.085114\n",
       "n_icu_30d                       0.084543\n",
       "eci_FluidsLytes                 0.076142\n",
       "triage_heartrate                0.075372\n",
       "eci_Arrhythmia                  0.073491\n",
       "eci_HTN1                        0.068138\n",
       "eci_Coagulopathy                0.064700\n",
       "cci_Renal                       0.064045\n",
       "eci_Renal                       0.063832\n",
       "ed_temperature_last             0.060720\n",
       "eci_PHTN                        0.056837\n",
       "cci_PVD                         0.053254\n",
       "eci_PVD                         0.052945\n",
       "eci_Valvular                    0.052359\n",
       "cci_MI                          0.051238\n",
       "cci_Cancer1                     0.048566\n",
       "cci_Stroke                      0.048404\n",
       "eci_WeightLoss                  0.047341\n",
       "eci_DM1                         0.046708\n",
       "eci_Tumor2                      0.045592\n",
       "cci_Cancer2                     0.045592\n",
       "eci_Tumor1                      0.044207\n",
       "gender                          0.044115\n",
       "cci_DM1                         0.043618\n",
       "cci_DM2                         0.043366\n",
       "n_medrecon                      0.042495\n",
       "eci_NeuroOther                  0.042226\n",
       "cci_Pulmonary                   0.038654\n",
       "eci_Pulmonary                   0.038654\n",
       "eci_DM2                         0.038464\n",
       "eci_Paralysis                   0.034210\n",
       "eci_HTN2                        0.033466\n",
       "cci_Liver2                      0.033194\n",
       "cci_Dementia                    0.030889\n",
       "cci_Paralysis                   0.030707\n",
       "eci_Hypothyroid                 0.029613\n",
       "eci_Liver                       0.029410\n",
       "eci_Anemia                      0.028604\n",
       "cci_Liver1                      0.026348\n",
       "cci_PUD                         0.025508\n",
       "eci_BloodLoss                   0.025129\n",
       "n_hosp_90d                      0.024536\n",
       "chiefcom_shortness_of_breath    0.022926\n",
       "ed_los_hours                    0.022231\n",
       "chiefcom_fever_chills           0.020883\n",
       "n_hosp_30d                      0.016885\n",
       "eci_PUD                         0.016649\n",
       "triage_temperature              0.015228\n",
       "n_hosp_365d                     0.014875\n",
       "eci_Rheumatic                   0.014820\n",
       "eci_Lymphoma                    0.014489\n",
       "before_ed_mortality             0.014414\n",
       "eci_Obesity                     0.013383\n",
       "cci_Rheumatic                   0.012624\n",
       "eci_Depression                  0.004294\n",
       "ed_death                        0.003693\n",
       "eci_Alcohol                     0.001878\n",
       "stay_id                        -0.000161\n",
       "eci_HIV                        -0.000318\n",
       "cci_HIV                        -0.000318\n",
       "subject_id                     -0.000352\n",
       "index                          -0.001841\n",
       "in_year                        -0.008679\n",
       "eci_Psychoses                  -0.009586\n",
       "chiefcom_syncope               -0.011911\n",
       "chiefcom_cough                 -0.012764\n",
       "chiefcom_nausea_vomiting       -0.014013\n",
       "eci_Drugs                      -0.014547\n",
       "n_ed_90d                       -0.015690\n",
       "n_ed_30d                       -0.018871\n",
       "chiefcom_dizziness             -0.020681\n",
       "n_ed_365d                      -0.021021\n",
       "chiefcom_headache              -0.022497\n",
       "chiefcom_chest_pain            -0.032221\n",
       "chiefcom_back_pain             -0.040649\n",
       "outcome_ed_revisit_3d          -0.042888\n",
       "ed_o2sat_last                  -0.043064\n",
       "chiefcom_abdominal_pain        -0.046545\n",
       "ed_pain_last                   -0.061302\n",
       "triage_sbp                     -0.062784\n",
       "triage_dbp                     -0.064094\n",
       "ed_sbp_last                    -0.065252\n",
       "triage_pain                    -0.071413\n",
       "triage_o2sat                   -0.100144\n",
       "ed_dbp_last                    -0.103318\n",
       "triage_acuity                  -0.266756\n",
       "Name: outcome_critical, dtype: float64"
      ]
     },
     "execution_count": 13,
     "metadata": {},
     "output_type": "execute_result"
    }
   ],
   "source": [
    "corr = df.corr(method='pearson')['outcome_critical']\n",
    "corr.sort_values(ascending=False)"
   ]
  },
  {
   "cell_type": "code",
   "execution_count": 14,
   "metadata": {},
   "outputs": [],
   "source": [
    "drop_df = drop_df.drop(['outcome_icu_transfer_12h'], axis=1)"
   ]
  },
  {
   "cell_type": "code",
   "execution_count": 17,
   "metadata": {},
   "outputs": [],
   "source": [
    "drop_df = drop_df.drop(['chiefcom_chest_pain', 'chiefcom_abdominal_pain',\n",
    "    'chiefcom_headache', 'chiefcom_shortness_of_breath',\n",
    "    'chiefcom_back_pain', 'chiefcom_cough', 'chiefcom_nausea_vomiting',\n",
    "    'chiefcom_fever_chills', 'chiefcom_syncope', 'chiefcom_dizziness',\n",
    "    'eci_CHF', 'eci_Arrhythmia', 'eci_Valvular', 'eci_PHTN', 'eci_PVD',\n",
    "    'eci_HTN1', 'eci_HTN2', 'eci_Paralysis', 'eci_NeuroOther',\n",
    "    'eci_Pulmonary', 'eci_DM1', 'eci_DM2', 'eci_Hypothyroid', 'eci_Renal',\n",
    "    'eci_Liver', 'eci_PUD', 'eci_HIV', 'eci_Lymphoma', 'eci_Tumor2',\n",
    "    'eci_Tumor1', 'eci_Rheumatic', 'eci_Coagulopathy', 'eci_Obesity',\n",
    "    'eci_WeightLoss', 'eci_FluidsLytes', 'eci_BloodLoss', 'eci_Anemia',\n",
    "    'eci_Alcohol', 'eci_Drugs', 'eci_Psychoses', 'eci_Depression'], axis=1)"
   ]
  },
  {
   "cell_type": "code",
   "execution_count": 18,
   "metadata": {},
   "outputs": [
    {
     "data": {
      "text/plain": [
       "Index(['index', 'subject_id', 'stay_id', 'intime', 'outtime', 'gender',\n",
       "       'in_year', 'age', 'outcome_inhospital_mortality', 'ed_death',\n",
       "       'before_ed_mortality', 'ed_los', 'outcome_hospitalization',\n",
       "       'outcome_critical', 'n_ed_30d', 'n_ed_90d', 'n_ed_365d',\n",
       "       'outcome_ed_revisit_3d', 'n_hosp_30d', 'n_hosp_90d', 'n_hosp_365d',\n",
       "       'n_icu_30d', 'n_icu_90d', 'n_icu_365d', 'ed_los_hours',\n",
       "       'triage_temperature', 'triage_heartrate', 'triage_resprate',\n",
       "       'triage_o2sat', 'triage_sbp', 'triage_dbp', 'triage_pain',\n",
       "       'triage_acuity', 'ed_temperature_last', 'ed_heartrate_last',\n",
       "       'ed_resprate_last', 'ed_o2sat_last', 'ed_sbp_last', 'ed_dbp_last',\n",
       "       'ed_pain_last', 'n_med', 'n_medrecon'],\n",
       "      dtype='object')"
      ]
     },
     "execution_count": 18,
     "metadata": {},
     "output_type": "execute_result"
    }
   ],
   "source": [
    "drop_df.columns"
   ]
  },
  {
   "cell_type": "code",
   "execution_count": null,
   "metadata": {},
   "outputs": [],
   "source": [
    "from sklearn.model_selection import train_test_split\n",
    "from sklearn.model_selection import cross_val_score\n",
    "from sklearn.metrics import confusion_matrix\n",
    "from sklearn.metrics import classification_report\n",
    "from sklearn.preprocessing import MinMaxScaler\n",
    "from sklearn.preprocessing import StandardScaler\n",
    "from sklearn.ensemble import GradientBoostingClassifier\n",
    "from sklearn.preprocessing import LabelEncoder\n",
    "from sklearn.datasets import make_classification\n",
    "from sklearn.decomposition import PCA\n",
    "from imblearn.over_sampling import SMOTE\n",
    "from imblearn.under_sampling import RandomUnderSampler\n",
    "from imblearn.over_sampling import RandomOverSampler\n",
    "from collections import Counter\n",
    "\n",
    "import numpy as np\n",
    "\n",
    "# 스태킹 모델에 사용할 알고리즘\n",
    "from sklearn.neighbors import KNeighborsClassifier\n",
    "from sklearn.ensemble import RandomForestClassifier\n",
    "from sklearn.ensemble import AdaBoostClassifier\n",
    "from sklearn.tree import DecisionTreeClassifier\n",
    "from sklearn.linear_model import LogisticRegression\n",
    "\n",
    "# 위스콘신 유방암 예제 데이터 로드\n",
    "# metrics로 accuracy를 사용\n",
    "from sklearn.datasets import load_breast_cancer\n",
    "from sklearn.model_selection import train_test_split\n",
    "from sklearn.metrics import accuracy_score"
   ]
  },
  {
   "cell_type": "code",
   "execution_count": null,
   "metadata": {},
   "outputs": [],
   "source": [
    "obj = pd.DataFrame(drop_df.dtypes != 'object')\n",
    "drop_df = drop_df[obj[obj[0] == True].index]"
   ]
  },
  {
   "cell_type": "code",
   "execution_count": null,
   "metadata": {},
   "outputs": [],
   "source": [
    "y = drop_df['outcome_critical']\n",
    "x = drop_df.drop(['outcome_critical'], axis=1)"
   ]
  },
  {
   "cell_type": "code",
   "execution_count": null,
   "metadata": {},
   "outputs": [],
   "source": [
    "#언더 샘플링\n",
    "undersample = RandomUnderSampler(sampling_strategy='majority')\n",
    "x_under, y_under = undersample.fit_resample(x, y)\n",
    "print(Counter(y_under))"
   ]
  },
  {
   "cell_type": "code",
   "execution_count": null,
   "metadata": {},
   "outputs": [],
   "source": [
    "x_train, x_test, y_train, y_test = train_test_split(x_under, y_under, shuffle=True, stratify=y_under, test_size=0.2, random_state=10)"
   ]
  },
  {
   "cell_type": "markdown",
   "metadata": {},
   "source": [
    "## 일반 스태킹"
   ]
  },
  {
   "cell_type": "code",
   "execution_count": null,
   "metadata": {},
   "outputs": [],
   "source": [
    "knn_clf = KNeighborsClassifier(n_neighbors=4)\n",
    "rf_clf = RandomForestClassifier(n_estimators=100, random_state=30)\n",
    "dt_clf = DecisionTreeClassifier()\n",
    "ada_clf = AdaBoostClassifier(n_estimators=100)\n",
    "lr_final = LogisticRegression(C=10)"
   ]
  },
  {
   "cell_type": "code",
   "execution_count": null,
   "metadata": {},
   "outputs": [],
   "source": [
    "knn_clf.fit(x_train, y_train)\n",
    "rf_clf.fit(x_train, y_train)\n",
    "dt_clf.fit(x_train, y_train)\n",
    "ada_clf.fit(x_train, y_train)"
   ]
  },
  {
   "cell_type": "code",
   "execution_count": null,
   "metadata": {},
   "outputs": [],
   "source": [
    "knn_pred = knn_clf.predict(x_test)\n",
    "rf_pred = rf_clf.predict(x_test)\n",
    "dt_pred = dt_clf.predict(x_test)\n",
    "ada_pred = ada_clf.predict(x_test)\n",
    "\n",
    "print('KNN 정확도 :',accuracy_score(y_test, knn_pred))\n",
    "print('RF 정확도 :',accuracy_score(y_test, rf_pred))\n",
    "print('DT 정확도 :',accuracy_score(y_test, dt_pred))\n",
    "print('ADA부스트 정확도 :',accuracy_score(y_test, ada_pred))"
   ]
  },
  {
   "cell_type": "code",
   "execution_count": null,
   "metadata": {},
   "outputs": [],
   "source": [
    "stacked_pred = np.array([knn_pred, rf_pred, dt_pred, ada_pred])\n",
    "print(stacked_pred.shape)\n",
    "\n",
    "# transpose를 이용, 행과 열의 위치를 교환, 칼럼 레벨로 각 모델의 예측 결과를 피처로 사용\n",
    "\n",
    "stacked_pred = np.transpose(stacked_pred)"
   ]
  },
  {
   "cell_type": "code",
   "execution_count": null,
   "metadata": {},
   "outputs": [],
   "source": [
    "lr_final.fit(stacked_pred, y_test)\n",
    "final_pred = lr_final.predict(stacked_pred)\n",
    "\n",
    "print('최종 메타 모델 정확도 : ',accuracy_score(y_test, final_pred))"
   ]
  },
  {
   "cell_type": "markdown",
   "metadata": {},
   "source": [
    "## 스태킹 with CV"
   ]
  },
  {
   "cell_type": "markdown",
   "metadata": {},
   "source": [
    "from sklearn.model_selection import KFold\n",
    "from sklearn.metrics import mean_absolute_error\n",
    "\n",
    "# 개별 기반 모델에서 최종 메타 모델이 사용할 학습 및 테스트용 데이터를 생성하기 위한 함수\n",
    "def get_stacking_base_datasets(model, X_train_n, y_train_n, X_test_n, n_folds):\n",
    "    # 지정된 n_folds 값으로 KFold 생성\n",
    "    kf = KFold(n_splits=n_folds, shuffle=False, random_state=20)\n",
    "    \n",
    "    # 추후 메타 모델이 사용할 학습 데이터 반환을 위한 넘파이 배열 초기화\n",
    "    train_fold_pred = np.zeros((X_train_n.shape[0], 1))\n",
    "    test_pred = np.zeros((X_test_n.shape[0], n_folds))\n",
    "    print(model.__class__.__name__,' model 시작')\n",
    "    \n",
    "    for folder_counter, (train_index, valid_index) in enumerate(kf.split(X_train_n)):\n",
    "        # 입력된 학습 데이터에서 기반 모델이 학습/예측할 폴드 데이터 세트 추출\n",
    "        print('\\t 폴드 세트: ',folder_counter+1,' 시작')\n",
    "        X_tr = X_train_n.iloc[train_index]\n",
    "        y_tr = y_train_n.iloc[train_index]\n",
    "        X_te = X_train_n.iloc[valid_index]\n",
    "        \n",
    "        # 폴드 세트 내부에서 다시 만들어진 학습 데이터로 기반 모델의 학습 수행\n",
    "        model.fit(X_tr, y_tr)\n",
    "        # 폴드 세트 내부에서 다시 만들어지 검증 데이터로 기반 모델 예측 후 데이터 저장\n",
    "        train_fold_pred[valid_index, :] = model.predict(X_te).reshape(-1, 1)\n",
    "        # 입력된 원본 테스트 데이터를 폴드 세트내 학습된 기반 모델에서 예측 후 데이터 저장\n",
    "        test_pred[:, folder_counter] = model.predict(X_test_n)\n",
    "        \n",
    "    # 폴드 세트 내에서 원본 테스트 데이터를 예측한 데이터를 평균하여 테스트 데이터로 생성\n",
    "    test_pred_mean = np.mean(test_pred, axis=1).reshape(-1,1)\n",
    "    \n",
    "    # train_fold_pred는 최종 메타 모델이 사용하는 학습 데이터, test_pred_mean은 테스트 데이터\n",
    "    return train_fold_pred, test_pred_mean"
   ]
  },
  {
   "cell_type": "code",
   "execution_count": null,
   "metadata": {},
   "outputs": [],
   "source": [
    "knn_train, knn_test = get_stacking_base_datasets(knn_clf, x_train, y_train, x_test, 7)\n",
    "rf_train, rf_test = get_stacking_base_datasets(rf_clf, x_train, y_train, x_test, 7)\n",
    "dt_train, dt_test = get_stacking_base_datasets(dt_clf, x_train, y_train, x_test, 7)\n",
    "ada_train, ada_test = get_stacking_base_datasets(ada_clf, x_train, y_train, x_test, 7)"
   ]
  },
  {
   "cell_type": "code",
   "execution_count": null,
   "metadata": {},
   "outputs": [],
   "source": [
    "Stack_final_X_train = np.concatenate((knn_train, rf_train, dt_train, ada_train), axis=1)\n",
    "Stack_final_X_test = np.concatenate((knn_test, rf_test, dt_test, ada_test), axis=1)\n",
    "print('원본 학습 피처 데이터 shape:', x_train.shape, '원본 테스트 피처 shape:',x_test.shape)\n",
    "print('스태킹 학습 피처 데이터 shape:',Stack_final_X_train.shape,\n",
    "     '스태킹 테스트 피처 데이터 shape:',Stack_final_X_test.shape)"
   ]
  },
  {
   "cell_type": "code",
   "execution_count": null,
   "metadata": {},
   "outputs": [],
   "source": [
    "lr_final.fit(Stack_final_X_train, y_train)\n",
    "stack_final = lr_final.predict(Stack_final_X_test)\n",
    "\n",
    "print('최종 메타 모델의 예측 정확도: ', accuracy_score(y_test, stack_final))"
   ]
  }
 ],
 "metadata": {
  "interpreter": {
   "hash": "1268366772c895b68431baa960d99cc0d4da9835d2068fc339abd4ac06160e4f"
  },
  "kernelspec": {
   "display_name": "Python 3.8.13 ('tfkeras')",
   "language": "python",
   "name": "python3"
  },
  "language_info": {
   "codemirror_mode": {
    "name": "ipython",
    "version": 3
   },
   "file_extension": ".py",
   "mimetype": "text/x-python",
   "name": "python",
   "nbconvert_exporter": "python",
   "pygments_lexer": "ipython3",
   "version": "3.9.7"
  },
  "orig_nbformat": 4
 },
 "nbformat": 4,
 "nbformat_minor": 2
}
