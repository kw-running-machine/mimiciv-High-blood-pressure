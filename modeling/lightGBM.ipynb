{
 "cells": [
  {
   "cell_type": "code",
   "execution_count": 1,
   "id": "4209ee96",
   "metadata": {},
   "outputs": [],
   "source": [
    "# C:/Users/광운MOOC센터/Desktop/ml/master_min.csv\n",
    "import pandas as pd\n",
    "\n",
    "master = pd.read_csv('../dataset/master_3.csv')"
   ]
  },
  {
   "cell_type": "code",
   "execution_count": 9,
   "id": "eee7282e",
   "metadata": {},
   "outputs": [],
   "source": [
    "master = master.drop([\"intime\", \"outtime\", \"ed_los\", \"outcome_icu_transfer_12h\"], axis='columns')\n",
    "\n",
    "master_X = master.loc[:, master.columns!='outcome_critical']\n",
    "master_Y = master['outcome_critical']\n",
    "\n",
    "master_Y.replace([False, True],[0,1], inplace=True)"
   ]
  },
  {
   "cell_type": "code",
   "execution_count": 10,
   "id": "bb88516e",
   "metadata": {},
   "outputs": [],
   "source": [
    "from sklearn.model_selection import train_test_split\n",
    "X_train, X_test, Y_train, Y_test = train_test_split(master_X, master_Y, test_size=0.33, random_state=321)"
   ]
  },
  {
   "cell_type": "code",
   "execution_count": 11,
   "id": "296d4d64",
   "metadata": {},
   "outputs": [],
   "source": [
    "df_train = pd.concat([X_train, Y_train], axis=1)\n",
    "df_test = pd.concat([X_test, Y_test], axis=1)"
   ]
  },
  {
   "cell_type": "code",
   "execution_count": 13,
   "id": "8265fd9e",
   "metadata": {},
   "outputs": [],
   "source": [
    "# import lightgbm as lgb\n",
    "# train_ds = lgb.Dataset(X_train, label=Y_train)\n",
    "# test_ds = lgb.Dataset(X_test, label=Y_test)"
   ]
  },
  {
   "cell_type": "code",
   "execution_count": 14,
   "id": "cb232e5d",
   "metadata": {},
   "outputs": [],
   "source": [
    "# params = {'learning_rate': 0.01,\n",
    "#          'max_depth': -1,\n",
    "#          'boosting': 'gbdt',\n",
    "#          'objective': 'binary',\n",
    "#          'metric': 'binary_logloss',\n",
    "#          'is_training_metric': True,\n",
    "#          'num_leaves': 50,\n",
    "#          'feature_fraction': 0.9,\n",
    "#          'bagging_fraction': 0.7,\n",
    "#          'bagging_freq': 5,\n",
    "#          'seed': 2020 }"
   ]
  },
  {
   "cell_type": "code",
   "execution_count": 62,
   "id": "eb405ad3",
   "metadata": {
    "collapsed": true
   },
   "outputs": [
    {
     "name": "stderr",
     "output_type": "stream",
     "text": [
      "C:\\Users\\Seok\\anaconda3\\lib\\site-packages\\lightgbm\\engine.py:181: UserWarning: 'early_stopping_rounds' argument is deprecated and will be removed in a future release of LightGBM. Pass 'early_stopping()' callback via 'callbacks' argument instead.\n",
      "  _log_warning(\"'early_stopping_rounds' argument is deprecated and will be removed in a future release of LightGBM. \"\n",
      "C:\\Users\\Seok\\anaconda3\\lib\\site-packages\\lightgbm\\engine.py:239: UserWarning: 'verbose_eval' argument is deprecated and will be removed in a future release of LightGBM. Pass 'log_evaluation()' callback via 'callbacks' argument instead.\n",
      "  _log_warning(\"'verbose_eval' argument is deprecated and will be removed in a future release of LightGBM. \"\n"
     ]
    },
    {
     "name": "stdout",
     "output_type": "stream",
     "text": [
      "[LightGBM] [Info] Number of positive: 19679, number of negative: 281132\n",
      "[LightGBM] [Warning] Auto-choosing row-wise multi-threading, the overhead of testing was 0.039263 seconds.\n",
      "You can set `force_row_wise=true` to remove the overhead.\n",
      "And if memory is not enough, you can set `force_col_wise=true`.\n",
      "[LightGBM] [Info] Total Bins 3400\n",
      "[LightGBM] [Info] Number of data points in the train set: 300811, number of used features: 96\n",
      "[LightGBM] [Info] [binary:BoostFromScore]: pavg=0.065420 -> initscore=-2.659272\n",
      "[LightGBM] [Info] Start training from score -2.659272\n",
      "Training until validation scores don't improve for 100 rounds\n",
      "[100]\tvalid_0's binary_logloss: 0.107362\n",
      "[200]\tvalid_0's binary_logloss: 0.107426\n",
      "Early stopping, best iteration is:\n",
      "[144]\tvalid_0's binary_logloss: 0.107152\n"
     ]
    }
   ],
   "source": [
    "# model = lgb.train(params, train_ds, 1000, test_ds, verbose_eval=100, early_stopping_rounds=100)\n",
    "# y_pred = model.predict(X_test)"
   ]
  },
  {
   "cell_type": "code",
   "execution_count": 61,
   "id": "3fad0dac",
   "metadata": {},
   "outputs": [],
   "source": [
    "# #############--\n",
    "# params = {'learning_rate': 0.09,\n",
    "#          'max_depth': -1,\n",
    "#          'boosting': 'gbdt',\n",
    "#          'objective': 'binary',\n",
    "#          'metric': 'binary_logloss',\n",
    "#          'is_training_metric': True,\n",
    "#          'num_leaves': 50,\n",
    "#          'feature_fraction': 0.9,\n",
    "#          'bagging_fraction': 0.7,\n",
    "#          'bagging_freq': 5,\n",
    "#          'seed': 2020 }"
   ]
  },
  {
   "cell_type": "code",
   "execution_count": 63,
   "id": "f0e29773",
   "metadata": {
    "collapsed": true
   },
   "outputs": [
    {
     "name": "stdout",
     "output_type": "stream",
     "text": [
      "오차 행렬\n",
      "[[136960   1295]\n",
      " [  4758   5148]]\n",
      "정확도:  0.9591, 정밀도:  0.7990, 재현율:  0.5197,\n",
      "F1:  0.6298, AUC:  0.7552\n"
     ]
    }
   ],
   "source": [
    "# setting(y_pred)\n",
    "# get_clf_eval(Y_test, y_pred)"
   ]
  },
  {
   "cell_type": "code",
   "execution_count": 60,
   "id": "4c08a122",
   "metadata": {},
   "outputs": [
    {
     "name": "stderr",
     "output_type": "stream",
     "text": [
      "C:\\Users\\Seok\\anaconda3\\lib\\site-packages\\lightgbm\\sklearn.py:736: UserWarning: 'verbose' argument is deprecated and will be removed in a future release of LightGBM. Pass 'log_evaluation()' callback via 'callbacks' argument instead.\n",
      "  _log_warning(\"'verbose' argument is deprecated and will be removed in a future release of LightGBM. \"\n"
     ]
    },
    {
     "name": "stdout",
     "output_type": "stream",
     "text": [
      "[LightGBM] [Warning] feature_fraction is set=0.8, colsample_bytree=1.0 will be ignored. Current value: feature_fraction=0.8\n",
      "[LightGBM] [Warning] bagging_fraction is set=0.7, subsample=1.0 will be ignored. Current value: bagging_fraction=0.7\n",
      "[20]\ttraining's binary_logloss: 0.122196\tvalid_0's binary_logloss: 0.125826\n",
      "[40]\ttraining's binary_logloss: 0.108551\tvalid_0's binary_logloss: 0.113077\n",
      "[60]\ttraining's binary_logloss: 0.103929\tvalid_0's binary_logloss: 0.109573\n",
      "[80]\ttraining's binary_logloss: 0.101268\tvalid_0's binary_logloss: 0.108223\n",
      "[100]\ttraining's binary_logloss: 0.0993105\tvalid_0's binary_logloss: 0.107711\n"
     ]
    },
    {
     "data": {
      "text/plain": [
       "LGBMClassifier(bagging_fraction=0.7, feature_fraction=0.8, learning_rate=0.09,\n",
       "               metric='bagging_fraction', objective='binary', random_state=42)"
      ]
     },
     "execution_count": 60,
     "metadata": {},
     "output_type": "execute_result"
    }
   ],
   "source": [
    "model_class = lgb.LGBMClassifier(learning_rate=0.09, max_depth=-1,random_state=42, feature_fraction=0.8, bagging_fraction=0.7, objective='binary', metric='bagging_fraction')\n",
    "model_class.fit(X_train,Y_train,eval_set=[(X_test,Y_test),(X_train,Y_train)],\n",
    "          verbose=20,eval_metric='logloss')"
   ]
  },
  {
   "cell_type": "code",
   "execution_count": 58,
   "id": "e7bc8f0b",
   "metadata": {},
   "outputs": [],
   "source": [
    "y_pred_class = model_class.predict(X_test)"
   ]
  },
  {
   "cell_type": "code",
   "execution_count": 59,
   "id": "dbe123d0",
   "metadata": {},
   "outputs": [
    {
     "name": "stdout",
     "output_type": "stream",
     "text": [
      "오차 행렬\n",
      "[[138178     77]\n",
      " [  7639   2267]]\n",
      "정확도:  0.9479, 정밀도:  0.9672, 재현율:  0.2289,\n",
      "F1:  0.3701, AUC:  0.6141\n"
     ]
    }
   ],
   "source": [
    "setting(y_pred_class)\n",
    "get_clf_eval(Y_test, y_pred_class)"
   ]
  },
  {
   "cell_type": "code",
   "execution_count": 27,
   "id": "f9e69e6a",
   "metadata": {},
   "outputs": [
    {
     "data": {
      "text/plain": [
       "<AxesSubplot:title={'center':'Feature importance'}, xlabel='Feature importance', ylabel='Features'>"
      ]
     },
     "execution_count": 27,
     "metadata": {},
     "output_type": "execute_result"
    },
    {
     "data": {
      "image/png": "[encoded data removed]",
      "text/plain": [
       "<Figure size 720x576 with 1 Axes>"
      ]
     },
     "metadata": {
      "needs_background": "light"
     },
     "output_type": "display_data"
    }
   ],
   "source": [
    "from lightgbm import plot_importance\n",
    "import matplotlib.pyplot as plt\n",
    "%matplotlib inline\n",
    "\n",
    "fig, ax = plt.subplots(figsize=(10, 8))\n",
    "plot_importance(model_class, max_num_features=15, ax=ax)"
   ]
  },
  {
   "cell_type": "code",
   "execution_count": 21,
   "id": "4af1ed8a",
   "metadata": {},
   "outputs": [],
   "source": [
    "def setting(y_pred):\n",
    "    for i in range(len(y_pred)):\n",
    "        if y_pred[i]>=.5:       # setting threshold to .5\n",
    "           y_pred[i]=1\n",
    "        else:  \n",
    "           y_pred[i]=0"
   ]
  },
  {
   "cell_type": "code",
   "execution_count": 17,
   "id": "61c27081",
   "metadata": {},
   "outputs": [],
   "source": [
    "# XGB 모델 예측 성능 평가\n",
    "from sklearn.metrics import confusion_matrix, accuracy_score\n",
    "from sklearn.metrics import precision_score, recall_score\n",
    "from sklearn.metrics import f1_score, roc_auc_score\n",
    "\n",
    "def get_clf_eval(y_test, pred):\n",
    "    confusion = confusion_matrix(y_test, pred)\n",
    "    accuracy = accuracy_score(y_test, pred)\n",
    "    precision = precision_score(y_test, pred)\n",
    "    recall = recall_score(y_test, pred)\n",
    "    f1 = f1_score(y_test, pred)\n",
    "    roc_auc = roc_auc_score(y_test, pred)\n",
    "    print('오차 행렬')\n",
    "    print(confusion)\n",
    "    print('정확도: {0: .4f}, 정밀도: {1: .4f}, 재현율: {2: .4f},\\nF1: {3: .4f}, AUC: {4: .4f}'.format(accuracy, precision, recall, f1, roc_auc))"
   ]
  }
 ],
 "metadata": {
  "kernelspec": {
   "display_name": "Python 3 (ipykernel)",
   "language": "python",
   "name": "python3"
  },
  "language_info": {
   "codemirror_mode": {
    "name": "ipython",
    "version": 3
   },
   "file_extension": ".py",
   "mimetype": "text/x-python",
   "name": "python",
   "nbconvert_exporter": "python",
   "pygments_lexer": "ipython3",
   "version": "3.9.7"
  }
 },
 "nbformat": 4,
 "nbformat_minor": 5
}
