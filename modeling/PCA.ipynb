{
 "cells": [
  {
   "cell_type": "code",
   "execution_count": null,
   "id": "fb774445",
   "metadata": {},
   "outputs": [],
   "source": [
    "# 초기 세팅\n",
    "import pandas as pd\n",
    "\n",
    "master = pd.read_csv(\"../dataset/master_4.csv\", encoding='utf-8')"
   ]
  },
  {
   "cell_type": "code",
   "execution_count": 2,
   "id": "77d4f1d6",
   "metadata": {},
   "outputs": [],
   "source": [
    "master = master.drop([\"intime\", \"outtime\", \"ed_los\", \"outcome_icu_transfer_12h\"], axis='columns')\n",
    "\n",
    "master_X = master.loc[:, master.columns!='outcome_critical']\n",
    "master_Y = master['outcome_critical']\n",
    "\n",
    "master_Y.replace([False, True],[0,1], inplace=True)"
   ]
  },
  {
   "cell_type": "code",
   "execution_count": 3,
   "id": "2f3d264d",
   "metadata": {},
   "outputs": [],
   "source": [
    "# 스케일링\n",
    "from sklearn.preprocessing import StandardScaler\n",
    "\n",
    "scaler = StandardScaler()\n",
    "master_X_std = scaler.fit_transform(master_X)"
   ]
  },
  {
   "cell_type": "code",
   "execution_count": 4,
   "id": "87081f73",
   "metadata": {},
   "outputs": [],
   "source": [
    "import numpy as np\n",
    "\n",
    "cov_mat = np.cov(master_X_std.T)\n",
    "eigen_vals, eigen_vecs = np.linalg.eig(cov_mat)"
   ]
  },
  {
   "cell_type": "code",
   "execution_count": 5,
   "id": "4a81c472",
   "metadata": {},
   "outputs": [],
   "source": [
    "# tuple list (eigen value, eigen vector)\n",
    "eigen_pairs = [(np.abs(eigen_vals[i]), eigen_vecs[:, i])\n",
    "               for i in range(len(eigen_vals))]\n",
    "\n",
    "eigen_pairs.sort(key = lambda k: k[0], reverse = True)"
   ]
  },
  {
   "cell_type": "code",
   "execution_count": 6,
   "id": "a61c56d2",
   "metadata": {},
   "outputs": [
    {
     "data": {
      "text/plain": [
       "array([1.18197341e-01, 4.91122043e-02, 3.34946376e-02, 2.65472028e-02,\n",
       "       2.55268656e-02, 2.51630375e-02, 2.26207331e-02, 2.22319482e-02,\n",
       "       2.13205249e-02, 2.06063984e-02, 1.97520465e-02, 1.93487015e-02,\n",
       "       1.79192386e-02, 1.70137056e-02, 1.68712773e-02, 1.63273354e-02,\n",
       "       1.58730404e-02, 1.51673740e-02, 1.31861968e-02, 1.27298967e-02,\n",
       "       1.24237273e-02, 1.21152583e-02, 1.16749227e-02, 1.15271107e-02,\n",
       "       1.12501250e-02, 1.10175851e-02, 1.05892344e-02, 1.04238091e-02,\n",
       "       1.03314345e-02, 1.02303098e-02, 1.01953520e-02, 1.01872265e-02,\n",
       "       1.01582552e-02, 1.01496367e-02, 9.89458282e-03, 9.78540653e-03,\n",
       "       9.71121082e-03, 9.49911766e-03, 9.26476918e-03, 9.15666766e-03,\n",
       "       9.04363501e-03, 8.90817124e-03, 8.84837258e-03, 8.66493422e-03,\n",
       "       8.48932065e-03, 8.35472647e-03, 8.27352319e-03, 8.18701700e-03,\n",
       "       7.99108838e-03, 7.90570299e-03, 7.74879023e-03, 7.63074170e-03,\n",
       "       7.53149525e-03, 7.35537372e-03, 7.21803332e-03, 7.12551474e-03,\n",
       "       7.09812868e-03, 7.05986305e-03, 6.87625665e-03, 6.81159565e-03,\n",
       "       6.74561962e-03, 6.66806541e-03, 6.53587297e-03, 6.23939575e-03,\n",
       "       6.03416662e-03, 5.92004318e-03, 5.64857603e-03, 5.32361874e-03,\n",
       "       5.29053343e-03, 4.94590701e-03, 4.68600080e-03, 4.62358237e-03,\n",
       "       4.51753469e-03, 4.47523845e-03, 3.92665736e-03, 3.83352060e-03,\n",
       "       3.12192137e-03, 2.97109456e-03, 2.73768129e-03, 1.69351096e-03,\n",
       "       1.34366627e-03, 1.28125536e-03, 1.14842749e-03, 1.08402653e-03,\n",
       "       9.92402122e-04, 9.20246835e-04, 4.57428051e-04, 4.05093988e-04,\n",
       "       3.46649968e-04, 1.67765417e-04, 1.46883783e-04, 3.74166712e-05,\n",
       "       1.17830716e-05, 6.80088644e-07, 2.33103154e-32, 9.90272891e-33,\n",
       "       8.33152366e-34, 2.13186061e-34])"
      ]
     },
     "execution_count": 6,
     "metadata": {},
     "output_type": "execute_result"
    }
   ],
   "source": [
    "from sklearn.decomposition import PCA\n",
    "\n",
    "# 전체 주성분에 대한 분산의 크기\n",
    "pca = PCA(n_components = None)\n",
    "master_X_std = pca.fit_transform(master_X_std)\n",
    "pca.explained_variance_ratio_ # 내림차순으로 나타남"
   ]
  },
  {
   "cell_type": "code",
   "execution_count": 8,
   "id": "7216e799",
   "metadata": {},
   "outputs": [],
   "source": [
    "# for i in range(2, 50, 2):\n",
    "#     pca = PCA(n_components=i) # 주성분을 몇개로 할지 결정\n",
    "#     master_X_pca = pca.fit_transform(master_X_std)\n",
    "#     PCA_X = pd.DataFrame(data=master_X_pca)\n",
    "#     # 주성분으로 이루어진 데이터 프레임 구성\n",
    "\n",
    "#     print(\"----------\" + str(i) + \"----------\")\n",
    "#     print(\"성분 별 분산 설명 비율 :\", pca.explained_variance_ratio_)\n",
    "#     print(\"전체 분산 설명 비율 :\", sum(pca.explained_variance_ratio_))\n",
    "#     print()"
   ]
  },
  {
   "cell_type": "code",
   "execution_count": 7,
   "id": "a0def8ad",
   "metadata": {},
   "outputs": [
    {
     "name": "stdout",
     "output_type": "stream",
     "text": [
      "분산 설명력 0.6 : 27\n",
      "분산 설명력 0.7 : 37\n"
     ]
    }
   ],
   "source": [
    "print(\"분산 설명력 0.6 :\", 27)\n",
    "print(\"분산 설명력 0.7 :\", 37)"
   ]
  },
  {
   "cell_type": "code",
   "execution_count": 9,
   "id": "fa104d7b",
   "metadata": {},
   "outputs": [],
   "source": [
    "pca = PCA(n_components=27)\n",
    "master_X_std_27 = pca.fit_transform(master_X_std)\n",
    "PCA_X_27 = pd.DataFrame(data=master_X_std_27)"
   ]
  },
  {
   "cell_type": "code",
   "execution_count": 8,
   "id": "8c37096b",
   "metadata": {},
   "outputs": [],
   "source": [
    "pca = PCA(n_components=37)\n",
    "master_X_std_37 = pca.fit_transform(master_X_std)\n",
    "PCA_X_37 = pd.DataFrame(data=master_X_std_37)"
   ]
  },
  {
   "cell_type": "code",
   "execution_count": 15,
   "id": "52e86d10",
   "metadata": {},
   "outputs": [],
   "source": [
    "from sklearn.model_selection import train_test_split\n",
    "X_train, X_test, Y_train, Y_test = train_test_split(master_X_std, master_Y, test_size=0.33, random_state=321)\n",
    "X_train_27, X_test_27, Y_train_27, Y_test_27 = train_test_split(PCA_X_27, master_Y, test_size=0.33, random_state=321)\n",
    "X_train_37, X_test_37, Y_train_37, Y_test_37 = train_test_split(PCA_X_37, master_Y, test_size=0.33, random_state=321)"
   ]
  },
  {
   "cell_type": "code",
   "execution_count": 11,
   "id": "bf75b5d0",
   "metadata": {},
   "outputs": [],
   "source": [
    "from sklearn.metrics import confusion_matrix, accuracy_score\n",
    "from sklearn.metrics import precision_score, recall_score\n",
    "from sklearn.metrics import f1_score, roc_auc_score\n",
    "\n",
    "def setting(y_pred):\n",
    "    for i in range(len(y_pred)):\n",
    "        if y_pred[i]>=.5:       # setting threshold to .5\n",
    "           y_pred[i]=1\n",
    "        else:  \n",
    "           y_pred[i]=0\n",
    "\n",
    "def get_clf_eval(y_test, pred):\n",
    "    confusion = confusion_matrix(y_test, pred)\n",
    "    accuracy = accuracy_score(y_test, pred)\n",
    "    precision = precision_score(y_test, pred)\n",
    "    recall = recall_score(y_test, pred)\n",
    "    f1 = f1_score(y_test, pred)\n",
    "    roc_auc = roc_auc_score(y_test, pred)\n",
    "    print('오차 행렬')\n",
    "    print(confusion)\n",
    "    print('정확도: {0: .4f}, 정밀도: {1: .4f}, 재현율: {2: .4f},\\nF1: {3: .4f}, AUC: {4: .4f}'.format(accuracy, precision, recall, f1, roc_auc))"
   ]
  },
  {
   "cell_type": "code",
   "execution_count": 16,
   "id": "b1b6fcdd",
   "metadata": {},
   "outputs": [
    {
     "name": "stdout",
     "output_type": "stream",
     "text": [
      "Default\n",
      "\n"
     ]
    },
    {
     "name": "stderr",
     "output_type": "stream",
     "text": [
      "C:\\Users\\Seok\\anaconda3\\lib\\site-packages\\sklearn\\linear_model\\_logistic.py:763: ConvergenceWarning: lbfgs failed to converge (status=1):\n",
      "STOP: TOTAL NO. of ITERATIONS REACHED LIMIT.\n",
      "\n",
      "Increase the number of iterations (max_iter) or scale the data as shown in:\n",
      "    https://scikit-learn.org/stable/modules/preprocessing.html\n",
      "Please also refer to the documentation for alternative solver options:\n",
      "    https://scikit-learn.org/stable/modules/linear_model.html#logistic-regression\n",
      "  n_iter_i = _check_optimize_result(\n"
     ]
    },
    {
     "name": "stdout",
     "output_type": "stream",
     "text": [
      "오차 행렬\n",
      "[[137246   1009]\n",
      " [  6236   3670]]\n",
      "정확도:  0.9511, 정밀도:  0.7844, 재현율:  0.3705,\n",
      "F1:  0.5033, AUC:  0.6816\n",
      "\n",
      "------------------\n",
      "27\n",
      "\n",
      "오차 행렬\n",
      "[[137297    958]\n",
      " [  7669   2237]]\n",
      "정확도:  0.9418, 정밀도:  0.7002, 재현율:  0.2258,\n",
      "F1:  0.3415, AUC:  0.6094\n",
      "\n",
      "------------------\n",
      "37\n",
      "\n",
      "오차 행렬\n",
      "[[137447    808]\n",
      " [  7391   2515]]\n",
      "정확도:  0.9447, 정밀도:  0.7568, 재현율:  0.2539,\n",
      "F1:  0.3802, AUC:  0.6240\n"
     ]
    }
   ],
   "source": [
    "from sklearn.linear_model import LogisticRegression\n",
    "\n",
    "lr = LogisticRegression()\n",
    "\n",
    "print(\"Default\\n\")\n",
    "lr.fit(X_train, Y_train)\n",
    "y_pred = lr.predict(X_test)\n",
    "setting(y_pred)\n",
    "get_clf_eval(Y_test, y_pred)\n",
    "\n",
    "print(\"\\n------------------\")\n",
    "print(\"27\\n\")\n",
    "\n",
    "lr.fit(X_train_27, Y_train_27)\n",
    "y_pred = lr.predict(X_test_27)\n",
    "setting(y_pred)\n",
    "get_clf_eval(Y_test, y_pred)\n",
    "\n",
    "print(\"\\n------------------\")\n",
    "print(\"37\\n\")\n",
    "\n",
    "lr.fit(X_train_37, Y_train_37)\n",
    "y_pred = lr.predict(X_test_37)\n",
    "setting(y_pred)\n",
    "get_clf_eval(Y_test, y_pred)"
   ]
  }
 ],
 "metadata": {
  "kernelspec": {
   "display_name": "Python 3.9.11 64-bit",
   "language": "python",
   "name": "python3"
  },
  "language_info": {
   "codemirror_mode": {
    "name": "ipython",
    "version": 3
   },
   "file_extension": ".py",
   "mimetype": "text/x-python",
   "name": "python",
   "nbconvert_exporter": "python",
   "pygments_lexer": "ipython3",
   "version": "3.9.11"
  },
  "vscode": {
   "interpreter": {
    "hash": "0bc634c7defc278473aae0e09fa7640d960bf44daf98e7e8cc6d9b3487f2a802"
   }
  }
 },
 "nbformat": 4,
 "nbformat_minor": 5
}
