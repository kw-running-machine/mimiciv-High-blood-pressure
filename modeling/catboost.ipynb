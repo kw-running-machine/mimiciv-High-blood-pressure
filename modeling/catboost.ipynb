{
 "cells": [
  {
   "cell_type": "code",
   "execution_count": 1,
   "metadata": {},
   "outputs": [],
   "source": [
    "import pandas as pd\n",
    "from sklearn.preprocessing import RobustScaler, MinMaxScaler\n",
    "from sklearn.model_selection import train_test_split\n",
    "from catboost import CatBoostClassifier\n",
    "from sklearn.metrics import roc_auc_score\n",
    "\n",
    "data = pd.read_csv('../dataset/master_3.csv')"
   ]
  },
  {
   "cell_type": "code",
   "execution_count": 2,
   "metadata": {},
   "outputs": [],
   "source": [
    "# Catboost - Categorical Boosting\n",
    "# 한계점 : sparse 한 matrix는 처리하지 못 한다, 데이터 대부분이 수치형 변수인 경우, Light GBM 보다 학습 속도가 느리다"
   ]
  },
  {
   "cell_type": "code",
   "execution_count": 3,
   "metadata": {},
   "outputs": [
    {
     "data": {
      "text/plain": [
       "Index(['intime', 'outtime', 'ed_los'], dtype='object')"
      ]
     },
     "execution_count": 3,
     "metadata": {},
     "output_type": "execute_result"
    }
   ],
   "source": [
    "data.columns[data.dtypes == \"object\"]"
   ]
  },
  {
   "cell_type": "code",
   "execution_count": 4,
   "metadata": {},
   "outputs": [],
   "source": [
    "# categorical 변수 전처리 해줘야하지만 시계열 데이터여서 삭제 & y label과 같은 의미인 outcome_icu_transfer_12h도 같이 삭제\n",
    "X = data[data.columns.difference(['outcome_critical','intime','outtime','ed_los','outcome_icu_transfer_12h'])]\n",
    "y = data['outcome_critical']"
   ]
  },
  {
   "cell_type": "code",
   "execution_count": 5,
   "metadata": {},
   "outputs": [],
   "source": [
    "# Split dataset into training set and test set\n",
    "X_train, X_test, y_train, y_test = train_test_split(X, y, test_size=0.2) # 80% training and 20% test"
   ]
  },
  {
   "cell_type": "code",
   "execution_count": 6,
   "metadata": {},
   "outputs": [
    {
     "name": "stdout",
     "output_type": "stream",
     "text": [
      "0:\tlearn: 0.5513734\ttotal: 96.6ms\tremaining: 8m 3s\n",
      "500:\tlearn: 0.1029323\ttotal: 13.2s\tremaining: 1m 58s\n",
      "1000:\tlearn: 0.0974042\ttotal: 25.1s\tremaining: 1m 40s\n",
      "1500:\tlearn: 0.0933469\ttotal: 37s\tremaining: 1m 26s\n",
      "2000:\tlearn: 0.0898608\ttotal: 48.8s\tremaining: 1m 13s\n",
      "2500:\tlearn: 0.0868271\ttotal: 1m\tremaining: 1m\n",
      "3000:\tlearn: 0.0838801\ttotal: 1m 12s\tremaining: 48.5s\n",
      "3500:\tlearn: 0.0811970\ttotal: 1m 24s\tremaining: 36.4s\n",
      "4000:\tlearn: 0.0785155\ttotal: 1m 37s\tremaining: 24.3s\n",
      "4500:\tlearn: 0.0759375\ttotal: 1m 49s\tremaining: 12.1s\n",
      "4999:\tlearn: 0.0734889\ttotal: 2m 3s\tremaining: 0us\n"
     ]
    }
   ],
   "source": [
    "# fit 할 때 cat_features 넣어도 결과 동일해 빼고 진행하였음\n",
    "\n",
    "cat = CatBoostClassifier(learning_rate=0.05, iterations=5000)\n",
    "cat.fit(X_train, y_train, early_stopping_rounds=100, verbose=500)\n",
    "result = cat.predict_proba(X_test)"
   ]
  },
  {
   "cell_type": "code",
   "execution_count": 7,
   "metadata": {},
   "outputs": [
    {
     "name": "stdout",
     "output_type": "stream",
     "text": [
      "0.9616555668290753\n"
     ]
    }
   ],
   "source": [
    "print(roc_auc_score(y_test, cat.predict_proba(X_test)[:, 1]))"
   ]
  },
  {
   "cell_type": "code",
   "execution_count": null,
   "metadata": {},
   "outputs": [],
   "source": []
  }
 ],
 "metadata": {
  "interpreter": {
   "hash": "3a88f67c955de240e7f03eb5835eb15b63284ee4e1de669a112550de6942c9ef"
  },
  "kernelspec": {
   "display_name": "Python 3.8.13 ('machine_learning')",
   "language": "python",
   "name": "python3"
  },
  "language_info": {
   "codemirror_mode": {
    "name": "ipython",
    "version": 3
   },
   "file_extension": ".py",
   "mimetype": "text/x-python",
   "name": "python",
   "nbconvert_exporter": "python",
   "pygments_lexer": "ipython3",
   "version": "3.8.13"
  },
  "orig_nbformat": 4
 },
 "nbformat": 4,
 "nbformat_minor": 2
}
