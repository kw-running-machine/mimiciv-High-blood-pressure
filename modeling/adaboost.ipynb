{
 "cells": [
  {
   "cell_type": "code",
   "execution_count": null,
   "metadata": {},
   "outputs": [],
   "source": [
    "import pandas as pd\n",
    "from pycaret.datasets import get_data \n",
    "from sklearn.ensemble import AdaBoostClassifier\n",
    "from sklearn import datasets\n",
    "from sklearn.model_selection import train_test_split\n",
    "from sklearn import metrics\n",
    "from sklearn.model_selection import cross_val_score\n",
    "\n",
    "dataset = pd.read_csv(\"master_3.csv\")"
   ]
  },
  {
   "cell_type": "code",
   "execution_count": null,
   "metadata": {},
   "outputs": [],
   "source": [
    "X = dataset[dataset.columns.difference(['outcome_critical','intime','outtime','ed_los','outcome_icu_transfer_12h'])]\n",
    "y = dataset['outcome_critical']"
   ]
  },
  {
   "cell_type": "code",
   "execution_count": null,
   "metadata": {},
   "outputs": [],
   "source": [
    "# Split dataset into training set and test set\n",
    "X_train, X_test, y_train, y_test = train_test_split(X, y, test_size=0.2) # 80% training and 20% test\n",
    " \n",
    "# Create adaboost classifer object\n",
    "abc = AdaBoostClassifier(n_estimators=50,\n",
    "                         learning_rate=0.1)\n",
    "# Train Adaboost Classifer\n",
    "model = abc.fit(X_train, y_train)\n",
    " \n",
    "# Predict the response for test dataset\n",
    "y_pred = model.predict(X_test)\n",
    " \n",
    "# Model Accuracy, how often is the classifier correct?\n",
    "print(\"Accuracy:\",metrics.accuracy_score(y_test, y_pred))\n",
    "print(cross_val_score(AdaBoostClassifier(), X, y)) # cross validation (k = 5)"
   ]
  },
  {
   "cell_type": "code",
   "execution_count": null,
   "metadata": {},
   "outputs": [],
   "source": [
    "# n_estimators 의 효과 측정\n",
    "\n",
    "x = list(range(2, 102, 2))\n",
    "y = []\n",
    "\n",
    "for i in x:\n",
    "  adaclf = AdaBoostClassifier(n_estimators=i,\n",
    "                              learning_rate=0.5,\n",
    "                              algorithm='SAMME.R',\n",
    "                              random_state=1)\n",
    "  \n",
    "  adaclf.fit(X_train, y_train)\n",
    "  adaclf_test_sc = metrics.accuracy_score(y_test, adaclf.predict(X_test))\n",
    "  y.append(adaclf_test_sc)\n",
    "\n",
    "import matplotlib.pyplot as plt\n",
    "plt.style.use('ggplot')\n",
    "\n",
    "plt.title(\"Effect of n_estimators\", pad=20)\n",
    "plt.xlabel(\"Number of base estimators\")\n",
    "plt.ylabel(\"Test accuracy of AdaBoost\")\n",
    "plt.plot(x, y)"
   ]
  },
  {
   "cell_type": "code",
   "execution_count": null,
   "metadata": {},
   "outputs": [],
   "source": [
    "# learning_rate 의 효과 측정\n",
    "\n",
    "x = [0.1, 0.2, 0.3, 0.4, 0.5, 0.6, 0.7, 0.8, 0.9, 1]\n",
    "y = []\n",
    "\n",
    "for i in x:\n",
    "  adaclf = AdaBoostClassifier(n_estimators=50,\n",
    "                              learning_rate=i,\n",
    "                              algorithm='SAMME.R',\n",
    "                              random_state=1)\n",
    "  \n",
    "  adaclf.fit(X_train, y_train)\n",
    "  adaclf_test_sc = metrics.accuracy_score(y_test, adaclf.predict(X_test))\n",
    "  y.append(adaclf_test_sc)\n",
    "\n",
    "plt.title(\"Effect of learning_rate\", pad=20)\n",
    "plt.xlabel(\"Learning rate\")\n",
    "plt.ylabel(\"Test accuracy of AdaBoost\")\n",
    "plt.plot(x, y)"
   ]
  },
  {
   "cell_type": "code",
   "execution_count": null,
   "metadata": {},
   "outputs": [],
   "source": [
    "from sklearn.metrics import accuracy_score, recall_score, f1_score, precision_score, roc_auc_score, confusion_matrix\n",
    "\n",
    "def get_clf_eval(y_test, y_pred):\n",
    "    confusion = confusion_matrix(y_test, y_pred)\n",
    "    accuracy = accuracy_score(y_test, y_pred)\n",
    "    precision = precision_score(y_test, y_pred)\n",
    "    recall = recall_score(y_test, y_pred)\n",
    "    F1 = f1_score(y_test, y_pred)\n",
    "    AUC = roc_auc_score(y_test, y_pred)\n",
    "    print('오차행렬:\\n', confusion)\n",
    "    print('\\n정확도: {:.4f}'.format(accuracy))\n",
    "    print('정밀도: {:.4f}'.format(precision))\n",
    "    print('재현율: {:.4f}'.format(recall))\n",
    "    print('F1: {:.4f}'.format(F1))\n",
    "    print('AUC: {:.4f}'.format(AUC))    "
   ]
  },
  {
   "cell_type": "code",
   "execution_count": null,
   "metadata": {},
   "outputs": [],
   "source": [
    "ada_clf = AdaBoostClassifier(n_estimators=30,\n",
    "                              learning_rate=0.5,\n",
    "                              algorithm='SAMME.R',\n",
    "                              random_state=1)"
   ]
  },
  {
   "cell_type": "code",
   "execution_count": null,
   "metadata": {},
   "outputs": [],
   "source": [
    "ada_clf.fit(X_train, y_train)\n",
    "pred = ada_clf.predict(X_test)"
   ]
  },
  {
   "cell_type": "code",
   "execution_count": null,
   "metadata": {},
   "outputs": [],
   "source": [
    "get_clf_eval(y_test, pred)"
   ]
  }
 ],
 "metadata": {
  "language_info": {
   "name": "python"
  },
  "orig_nbformat": 4
 },
 "nbformat": 4,
 "nbformat_minor": 2
}
