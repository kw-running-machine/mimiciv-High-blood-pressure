{
 "cells": [
  {
   "cell_type": "code",
   "execution_count": 3,
   "metadata": {},
   "outputs": [],
   "source": [
    "import pandas as pd\n",
    "\n",
    "data_D_U_train = pd.read_csv('../dataset/train_D_U.csv')\n",
    "data_D_U_test = pd.read_csv('../dataset/test_D_U.csv')\n",
    "\n",
    "data_D_U_O_train = pd.read_csv('../dataset/train_D_U_O.csv')\n",
    "data_D_U_O_test = pd.read_csv('../dataset/test_D_U_O.csv')"
   ]
  },
  {
   "cell_type": "markdown",
   "metadata": {},
   "source": [
    "### DU"
   ]
  },
  {
   "cell_type": "code",
   "execution_count": 15,
   "metadata": {},
   "outputs": [],
   "source": [
    "X_train_DU = data_D_U_train[data_D_U_train.columns.difference(['outcome_critical','Unnamed: 0'])]\n",
    "X_test_DU = data_D_U_test[data_D_U_test.columns.difference(['outcome_critical','Unnamed: 0'])]\n",
    "\n",
    "y_train_DU = data_D_U_train['outcome_critical']\n",
    "y_test_DU = data_D_U_test['outcome_critical']"
   ]
  },
  {
   "cell_type": "markdown",
   "metadata": {},
   "source": [
    "### DUO"
   ]
  },
  {
   "cell_type": "code",
   "execution_count": 20,
   "metadata": {},
   "outputs": [],
   "source": [
    "X_train_DUO = data_D_U_O_train[data_D_U_O_train.columns.difference(['outcome_critical','Unnamed: 0'])]\n",
    "X_test_DUO = data_D_U_O_test[data_D_U_O_test.columns.difference(['outcome_critical','Unnamed: 0'])]\n",
    "\n",
    "y_train_DUO = data_D_U_O_train['outcome_critical']\n",
    "y_test_DUO = data_D_U_O_test['outcome_critical']"
   ]
  },
  {
   "cell_type": "markdown",
   "metadata": {},
   "source": [
    "### Random forest"
   ]
  },
  {
   "cell_type": "code",
   "execution_count": 26,
   "metadata": {},
   "outputs": [],
   "source": [
    "from sklearn.tree import DecisionTreeClassifier\n",
    "from sklearn.ensemble import RandomForestClassifier\n",
    "\n",
    "rand_clf = RandomForestClassifier(criterion='entropy', bootstrap=True, random_state=2022)"
   ]
  },
  {
   "cell_type": "markdown",
   "metadata": {},
   "source": [
    "### DU"
   ]
  },
  {
   "cell_type": "code",
   "execution_count": 19,
   "metadata": {},
   "outputs": [
    {
     "name": "stdout",
     "output_type": "stream",
     "text": [
      "훈련세트 정확도: 1.000\n",
      "테스트세트 정확도: 0.852\n"
     ]
    }
   ],
   "source": [
    "rand_clf.fit(X_train_DU, y_train_DU)\n",
    "y_pred = rand_clf.predict(X_test_DU)\n",
    "\n",
    "print('훈련세트 정확도: {:.3f}' .format(rand_clf.score(X_train_DU, y_train_DU)))\n",
    "print('테스트세트 정확도: {:.3f}' .format(rand_clf.score(X_test_DU, y_test_DU)))"
   ]
  },
  {
   "cell_type": "markdown",
   "metadata": {},
   "source": [
    "### DUO"
   ]
  },
  {
   "cell_type": "code",
   "execution_count": 21,
   "metadata": {},
   "outputs": [
    {
     "name": "stdout",
     "output_type": "stream",
     "text": [
      "훈련세트 정확도: 1.000\n",
      "테스트세트 정확도: 0.884\n"
     ]
    }
   ],
   "source": [
    "rand_clf.fit(X_train_DUO, y_train_DUO)\n",
    "y_pred = rand_clf.predict(X_test_DUO)\n",
    "\n",
    "print('훈련세트 정확도: {:.3f}' .format(rand_clf.score(X_train_DUO, y_train_DUO)))\n",
    "print('테스트세트 정확도: {:.3f}' .format(rand_clf.score(X_test_DUO, y_test_DUO)))"
   ]
  },
  {
   "cell_type": "markdown",
   "metadata": {},
   "source": [
    "### lightGBM"
   ]
  },
  {
   "cell_type": "code",
   "execution_count": 12,
   "metadata": {},
   "outputs": [],
   "source": [
    "import lightgbm as lgb"
   ]
  },
  {
   "cell_type": "code",
   "execution_count": null,
   "metadata": {},
   "outputs": [],
   "source": [
    "from sklearn.metrics import confusion_matrix, accuracy_score\n",
    "from sklearn.metrics import precision_score, recall_score\n",
    "from sklearn.metrics import f1_score, roc_auc_score\n",
    "\n",
    "def setting(y_pred):\n",
    "    for i in range(len(y_pred)):\n",
    "        if y_pred[i]>=.5:       # setting threshold to .5\n",
    "           y_pred[i]=1\n",
    "        else:  \n",
    "           y_pred[i]=0\n",
    "\n",
    "def get_clf_eval(y_test, pred):\n",
    "    confusion = confusion_matrix(y_test, pred)\n",
    "    accuracy = accuracy_score(y_test, pred)\n",
    "    precision = precision_score(y_test, pred)\n",
    "    recall = recall_score(y_test, pred)\n",
    "    f1 = f1_score(y_test, pred)\n",
    "    roc_auc = roc_auc_score(y_test, pred)\n",
    "    print('오차 행렬')\n",
    "    print(confusion)\n",
    "    print('정확도: {0: .4f}, 정밀도: {1: .4f}, 재현율: {2: .4f},\\nF1: {3: .4f}, AUC: {4: .4f}'.format(accuracy, precision, recall, f1, roc_auc))"
   ]
  },
  {
   "cell_type": "markdown",
   "metadata": {},
   "source": [
    "### DU"
   ]
  },
  {
   "cell_type": "code",
   "execution_count": 16,
   "metadata": {},
   "outputs": [
    {
     "name": "stderr",
     "output_type": "stream",
     "text": [
      "/Users/son/opt/anaconda3/envs/machine_learning/lib/python3.8/site-packages/lightgbm/engine.py:148: UserWarning: Found `num_iterations` in params. Will use it instead of argument\n",
      "  _log_warning(\"Found `{}` in params. Will use it instead of argument\".format(alias))\n",
      "/Users/son/opt/anaconda3/envs/machine_learning/lib/python3.8/site-packages/lightgbm/engine.py:153: UserWarning: Found `early_stopping_rounds` in params. Will use it instead of argument\n",
      "  _log_warning(\"Found `{}` in params. Will use it instead of argument\".format(alias))\n"
     ]
    },
    {
     "name": "stdout",
     "output_type": "stream",
     "text": [
      "Training until validation scores don't improve for 50 rounds\n",
      "[20]\ttraining's binary_logloss: 0.332974\tvalid_0's binary_logloss: 0.351506\n",
      "[40]\ttraining's binary_logloss: 0.270213\tvalid_0's binary_logloss: 0.2966\n",
      "[60]\ttraining's binary_logloss: 0.250652\tvalid_0's binary_logloss: 0.281933\n",
      "[80]\ttraining's binary_logloss: 0.241652\tvalid_0's binary_logloss: 0.278455\n",
      "[100]\ttraining's binary_logloss: 0.235324\tvalid_0's binary_logloss: 0.276557\n",
      "[120]\ttraining's binary_logloss: 0.230319\tvalid_0's binary_logloss: 0.277047\n",
      "[140]\ttraining's binary_logloss: 0.225385\tvalid_0's binary_logloss: 0.278436\n",
      "Early stopping, best iteration is:\n",
      "[92]\ttraining's binary_logloss: 0.237874\tvalid_0's binary_logloss: 0.276414\n"
     ]
    }
   ],
   "source": [
    "model_class = lgb.LGBMClassifier(boosting='goss', learning_rate=0.08, num_iterations=500, early_stopping_rounds=50,\n",
    "                                 max_depth=-1,random_state=42, feature_fraction=0.8, bagging_fraction=0.7,\n",
    "                                 is_training_metric=True, num_leaves=25, objective='binary', metric='bagging_fraction')\n",
    "model_class.fit(X_train_DU,y_train_DU,eval_set=[(X_test_DU,y_test_DU),(X_train_DU,y_train_DU)], verbose=20,eval_metric='logloss')\n",
    "\n",
    "y_pred_class = model_class.predict(X_test_DU)"
   ]
  },
  {
   "cell_type": "code",
   "execution_count": 18,
   "metadata": {},
   "outputs": [
    {
     "name": "stdout",
     "output_type": "stream",
     "text": [
      "오차 행렬\n",
      "[[71797 12102]\n",
      " [  573  5323]]\n",
      "정확도:  0.8588, 정밀도:  0.3055, 재현율:  0.9028,\n",
      "F1:  0.4565, AUC:  0.8793\n"
     ]
    }
   ],
   "source": [
    "setting(y_pred_class)\n",
    "get_clf_eval(y_test_DU, y_pred_class)"
   ]
  },
  {
   "cell_type": "markdown",
   "metadata": {},
   "source": [
    "### DUO"
   ]
  },
  {
   "cell_type": "code",
   "execution_count": 24,
   "metadata": {},
   "outputs": [
    {
     "name": "stderr",
     "output_type": "stream",
     "text": [
      "/Users/son/opt/anaconda3/envs/machine_learning/lib/python3.8/site-packages/lightgbm/engine.py:148: UserWarning: Found `num_iterations` in params. Will use it instead of argument\n",
      "  _log_warning(\"Found `{}` in params. Will use it instead of argument\".format(alias))\n",
      "/Users/son/opt/anaconda3/envs/machine_learning/lib/python3.8/site-packages/lightgbm/engine.py:153: UserWarning: Found `early_stopping_rounds` in params. Will use it instead of argument\n",
      "  _log_warning(\"Found `{}` in params. Will use it instead of argument\".format(alias))\n"
     ]
    },
    {
     "name": "stdout",
     "output_type": "stream",
     "text": [
      "[LightGBM] [Warning] boosting is set=goss, boosting_type=gbdt will be ignored. Current value: boosting=goss\n",
      "[LightGBM] [Warning] feature_fraction is set=0.8, colsample_bytree=1.0 will be ignored. Current value: feature_fraction=0.8\n",
      "[LightGBM] [Warning] bagging_fraction is set=0.7, subsample=1.0 will be ignored. Current value: bagging_fraction=0.7\n",
      "[LightGBM] [Warning] early_stopping_round is set=50, early_stopping_rounds=50 will be ignored. Current value: early_stopping_round=50\n",
      "Training until validation scores don't improve for 50 rounds\n",
      "[20]\ttraining's binary_logloss: 0.302907\tvalid_0's binary_logloss: 0.321136\n",
      "[40]\ttraining's binary_logloss: 0.234059\tvalid_0's binary_logloss: 0.256281\n",
      "[60]\ttraining's binary_logloss: 0.21107\tvalid_0's binary_logloss: 0.23395\n",
      "[80]\ttraining's binary_logloss: 0.201196\tvalid_0's binary_logloss: 0.226128\n",
      "[100]\ttraining's binary_logloss: 0.194739\tvalid_0's binary_logloss: 0.221034\n",
      "[120]\ttraining's binary_logloss: 0.190085\tvalid_0's binary_logloss: 0.218739\n",
      "[140]\ttraining's binary_logloss: 0.186294\tvalid_0's binary_logloss: 0.217216\n",
      "[160]\ttraining's binary_logloss: 0.182914\tvalid_0's binary_logloss: 0.215623\n",
      "[180]\ttraining's binary_logloss: 0.179815\tvalid_0's binary_logloss: 0.214634\n",
      "[200]\ttraining's binary_logloss: 0.177043\tvalid_0's binary_logloss: 0.214846\n",
      "[220]\ttraining's binary_logloss: 0.174398\tvalid_0's binary_logloss: 0.214793\n",
      "[240]\ttraining's binary_logloss: 0.171784\tvalid_0's binary_logloss: 0.214663\n",
      "[260]\ttraining's binary_logloss: 0.169267\tvalid_0's binary_logloss: 0.214877\n",
      "Early stopping, best iteration is:\n",
      "[227]\ttraining's binary_logloss: 0.173444\tvalid_0's binary_logloss: 0.214307\n"
     ]
    }
   ],
   "source": [
    "model_class = lgb.LGBMClassifier(boosting='goss', learning_rate=0.08, num_iterations=500, early_stopping_rounds=50,\n",
    "                                 max_depth=-1,random_state=42, feature_fraction=0.8, bagging_fraction=0.7,\n",
    "                                 is_training_metric=True, num_leaves=25, objective='binary', metric='bagging_fraction')\n",
    "model_class.fit(X_train_DUO,y_train_DUO,eval_set=[(X_test_DUO,y_test_DUO),(X_train_DUO,y_train_DUO)], verbose=20,eval_metric='logloss')\n",
    "\n",
    "y_pred_class = model_class.predict(X_test_DUO)"
   ]
  },
  {
   "cell_type": "code",
   "execution_count": 25,
   "metadata": {},
   "outputs": [
    {
     "name": "stdout",
     "output_type": "stream",
     "text": [
      "오차 행렬\n",
      "[[75710  8189]\n",
      " [  924  4972]]\n",
      "정확도:  0.8985, 정밀도:  0.3778, 재현율:  0.8433,\n",
      "F1:  0.5218, AUC:  0.8728\n"
     ]
    }
   ],
   "source": [
    "setting(y_pred_class)\n",
    "get_clf_eval(y_test_DUO, y_pred_class)"
   ]
  },
  {
   "cell_type": "code",
   "execution_count": null,
   "metadata": {},
   "outputs": [],
   "source": []
  }
 ],
 "metadata": {
  "kernelspec": {
   "display_name": "Python 3.8.13 ('machine_learning')",
   "language": "python",
   "name": "python3"
  },
  "language_info": {
   "codemirror_mode": {
    "name": "ipython",
    "version": 3
   },
   "file_extension": ".py",
   "mimetype": "text/x-python",
   "name": "python",
   "nbconvert_exporter": "python",
   "pygments_lexer": "ipython3",
   "version": "3.8.13"
  },
  "orig_nbformat": 4,
  "vscode": {
   "interpreter": {
    "hash": "3a88f67c955de240e7f03eb5835eb15b63284ee4e1de669a112550de6942c9ef"
   }
  }
 },
 "nbformat": 4,
 "nbformat_minor": 2
}
